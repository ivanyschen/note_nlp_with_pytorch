{
 "cells": [
  {
   "cell_type": "markdown",
   "metadata": {},
   "source": [
    "# PyTorch Basics"
   ]
  },
  {
   "cell_type": "code",
   "execution_count": 3,
   "metadata": {},
   "outputs": [],
   "source": [
    "from utils import *"
   ]
  },
  {
   "cell_type": "markdown",
   "metadata": {},
   "source": [
    "Create a *random* tensor in PyTorch with `torch.Tensor`"
   ]
  },
  {
   "cell_type": "code",
   "execution_count": 4,
   "metadata": {},
   "outputs": [
    {
     "name": "stdout",
     "output_type": "stream",
     "text": [
      "type: torch.FloatTensor\n",
      "shape/size: torch.Size([2, 3])\n",
      "values: \n",
      "tensor([[0.0000e+00, 1.5414e-43, 1.8754e+28],\n",
      "        [2.0110e+20, 2.6807e-09, 1.0357e-11]])\n"
     ]
    }
   ],
   "source": [
    "import torch\n",
    "new_tensor = torch.Tensor(2, 3)\n",
    "describe(new_tensor)"
   ]
  },
  {
   "cell_type": "markdown",
   "metadata": {},
   "source": [
    "Create a tensor with values from a uniform distribution on interval [0, 1)"
   ]
  },
  {
   "cell_type": "code",
   "execution_count": 5,
   "metadata": {},
   "outputs": [
    {
     "name": "stdout",
     "output_type": "stream",
     "text": [
      "type: torch.FloatTensor\n",
      "shape/size: torch.Size([2, 3])\n",
      "values: \n",
      "tensor([[0.0941, 0.1576, 0.5028],\n",
      "        [0.2901, 0.2117, 0.7646]])\n"
     ]
    }
   ],
   "source": [
    "import torch\n",
    "new_tensor = torch.rand(2, 3)\n",
    "describe(new_tensor)"
   ]
  },
  {
   "cell_type": "markdown",
   "metadata": {},
   "source": [
    "Create tensors all filled with the same scalar."
   ]
  },
  {
   "cell_type": "code",
   "execution_count": 6,
   "metadata": {},
   "outputs": [
    {
     "name": "stdout",
     "output_type": "stream",
     "text": [
      "type: torch.FloatTensor\n",
      "shape/size: torch.Size([2, 3])\n",
      "values: \n",
      "tensor([[0., 0., 0.],\n",
      "        [0., 0., 0.]])\n"
     ]
    }
   ],
   "source": [
    "import torch\n",
    "tensor_with_same_scalar = torch.zeros(2, 3)\n",
    "describe(tensor_with_same_scalar)"
   ]
  },
  {
   "cell_type": "markdown",
   "metadata": {},
   "source": [
    "To create tensors filled with all zeros and ones, use the built-in functions.  \n",
    "To create tnesors filled scalar other than zero or one, user `fill_()` method.  \n",
    "In PyTorch, mathods with a underscore refers to an **in-place** operation"
   ]
  },
  {
   "cell_type": "code",
   "execution_count": 9,
   "metadata": {},
   "outputs": [
    {
     "name": "stdout",
     "output_type": "stream",
     "text": [
      "type: torch.FloatTensor\n",
      "shape/size: torch.Size([2, 3])\n",
      "values: \n",
      "tensor([[100., 100., 100.],\n",
      "        [100., 100., 100.]])\n"
     ]
    }
   ],
   "source": [
    "import torch\n",
    "tensor_with_same_scalar.fill_(100)\n",
    "describe(tensor_with_same_scalar)"
   ]
  },
  {
   "cell_type": "markdown",
   "metadata": {},
   "source": [
    "Create a tensor from lists."
   ]
  },
  {
   "cell_type": "code",
   "execution_count": 10,
   "metadata": {},
   "outputs": [
    {
     "name": "stdout",
     "output_type": "stream",
     "text": [
      "type: torch.FloatTensor\n",
      "shape/size: torch.Size([2, 3])\n",
      "values: \n",
      "tensor([[1., 2., 3.],\n",
      "        [4., 5., 6.]])\n"
     ]
    }
   ],
   "source": [
    "import torch\n",
    "new_tensor = torch.Tensor([[1, 2, 3],\n",
    "                           [4, 5, 6]])\n",
    "describe(new_tensor)"
   ]
  },
  {
   "cell_type": "markdown",
   "metadata": {},
   "source": [
    "Create a tensor from NumPy array.  \n",
    "Note: It results in type `DoubleTensor` instead of the default `FloatTensor`"
   ]
  },
  {
   "cell_type": "code",
   "execution_count": 11,
   "metadata": {},
   "outputs": [
    {
     "name": "stdout",
     "output_type": "stream",
     "text": [
      "type: torch.DoubleTensor\n",
      "shape/size: torch.Size([2, 3])\n",
      "values: \n",
      "tensor([[0.5394, 0.5647, 0.0429],\n",
      "        [0.3226, 0.3163, 0.9123]], dtype=torch.float64)\n"
     ]
    }
   ],
   "source": [
    "import numpy as np\n",
    "import torch\n",
    "np_arr = np.random.rand(2, 3)\n",
    "new_tensor = torch.from_numpy(np_arr)\n",
    "describe(new_tensor)"
   ]
  },
  {
   "cell_type": "markdown",
   "metadata": {},
   "source": [
    "Create a tensor in a specific type, such as `float`, `long`, `double`, etc"
   ]
  },
  {
   "cell_type": "code",
   "execution_count": 12,
   "metadata": {},
   "outputs": [
    {
     "name": "stdout",
     "output_type": "stream",
     "text": [
      "type: torch.FloatTensor\n",
      "shape/size: torch.Size([2, 3])\n",
      "values: \n",
      "tensor([[1., 2., 3.],\n",
      "        [4., 5., 6.]])\n"
     ]
    }
   ],
   "source": [
    "import torch\n",
    "new_float_tensor = torch.FloatTensor([[1, 2, 3],\n",
    "                                      [4, 5, 6]])\n",
    "describe(new_float_tensor)"
   ]
  },
  {
   "cell_type": "code",
   "execution_count": 13,
   "metadata": {},
   "outputs": [
    {
     "name": "stdout",
     "output_type": "stream",
     "text": [
      "type: torch.LongTensor\n",
      "shape/size: torch.Size([2, 3])\n",
      "values: \n",
      "tensor([[1, 2, 3],\n",
      "        [4, 5, 6]])\n"
     ]
    }
   ],
   "source": [
    "new_long_tensor = new_float_tensor.long()\n",
    "describe(new_long_tensor)"
   ]
  },
  {
   "cell_type": "code",
   "execution_count": 14,
   "metadata": {},
   "outputs": [
    {
     "name": "stdout",
     "output_type": "stream",
     "text": [
      "type: torch.LongTensor\n",
      "shape/size: torch.Size([2, 3])\n",
      "values: \n",
      "tensor([[1, 2, 3],\n",
      "        [4, 5, 6]])\n"
     ]
    }
   ],
   "source": [
    "import torch\n",
    "new_int_tensor = torch.tensor([[1, 2, 3],\n",
    "                               [4, 5, 6]], dtype=torch.int64)\n",
    "describe(new_int_tensor)"
   ]
  },
  {
   "cell_type": "markdown",
   "metadata": {},
   "source": [
    "Perform operations on tensors, such as `+`, `-`, `*`, `/`"
   ]
  },
  {
   "cell_type": "code",
   "execution_count": 15,
   "metadata": {},
   "outputs": [
    {
     "name": "stdout",
     "output_type": "stream",
     "text": [
      "tensor1: tensor([[0.3660, 0.7305, 0.9549],\n",
      "        [0.1477, 0.7621, 0.3281]])\n",
      "tensor2: tensor([[0.6026, 0.0147, 0.4730],\n",
      "        [0.6191, 0.2263, 0.2617]])\n",
      "tensor1 + tensor2: tensor([[0.9686, 0.7452, 1.4279],\n",
      "        [0.7668, 0.9884, 0.5899]])\n"
     ]
    }
   ],
   "source": [
    "import torch\n",
    "tensor1 = torch.rand(2, 3)\n",
    "tensor2 = torch.rand(2, 3)\n",
    "addition = tensor1 + tensor2\n",
    "print(f'tensor1: {tensor1}')\n",
    "print(f'tensor2: {tensor2}')\n",
    "print(f'tensor1 + tensor2: {addition}')"
   ]
  },
  {
   "cell_type": "code",
   "execution_count": 16,
   "metadata": {},
   "outputs": [
    {
     "name": "stdout",
     "output_type": "stream",
     "text": [
      "tensor1: tensor([[0.4669, 0.2970, 0.3560],\n",
      "        [0.2117, 0.8107, 0.2957]])\n",
      "tensor2: tensor([[0.3626, 0.3754, 0.6631],\n",
      "        [0.1906, 0.5737, 0.9186]])\n",
      "tensor1 + tensor2: tensor([[0.8296, 0.6724, 1.0190],\n",
      "        [0.4023, 1.3843, 1.2143]])\n"
     ]
    }
   ],
   "source": [
    "import torch\n",
    "tensor1 = torch.rand(2, 3)\n",
    "tensor2 = torch.rand(2, 3)\n",
    "addition = torch.add(tensor1, tensor2)\n",
    "print(f'tensor1: {tensor1}')\n",
    "print(f'tensor2: {tensor2}')\n",
    "print(f'tensor1 + tensor2: {addition}')"
   ]
  },
  {
   "cell_type": "markdown",
   "metadata": {},
   "source": [
    "Use `index_select` for complex indexing and slicing  \n",
    "Note: It is required to use `LongTensor` for the indices "
   ]
  },
  {
   "cell_type": "code",
   "execution_count": 19,
   "metadata": {},
   "outputs": [
    {
     "name": "stdout",
     "output_type": "stream",
     "text": [
      "type: torch.LongTensor\n",
      "shape/size: torch.Size([2, 3])\n",
      "values: \n",
      "tensor([[0, 1, 2],\n",
      "        [3, 4, 5]])\n"
     ]
    }
   ],
   "source": [
    "import torch\n",
    "x = torch.arange(6).reshape(2, 3)\n",
    "describe(x)"
   ]
  },
  {
   "cell_type": "code",
   "execution_count": 22,
   "metadata": {},
   "outputs": [
    {
     "name": "stdout",
     "output_type": "stream",
     "text": [
      "type: torch.LongTensor\n",
      "shape/size: torch.Size([2, 3])\n",
      "values: \n",
      "tensor([[0, 1, 2],\n",
      "        [0, 1, 2]])\n"
     ]
    }
   ],
   "source": [
    "indices = torch.LongTensor([0, 0])\n",
    "indexing_res = torch.index_select(x, dim=0, index=indices)\n",
    "describe(indexing_res)"
   ]
  },
  {
   "cell_type": "code",
   "execution_count": 25,
   "metadata": {},
   "outputs": [
    {
     "name": "stdout",
     "output_type": "stream",
     "text": [
      "type: torch.LongTensor\n",
      "shape/size: torch.Size([2, 3])\n",
      "values: \n",
      "tensor([[0, 1, 0],\n",
      "        [3, 4, 3]])\n"
     ]
    }
   ],
   "source": [
    "indices = torch.LongTensor([0, 1, 0])\n",
    "indexing_res = torch.index_select(x, dim=1, index=indices)\n",
    "describe(indexing_res)"
   ]
  },
  {
   "cell_type": "markdown",
   "metadata": {},
   "source": [
    "To enable bookkeeping operations that can track the gradient at the tensor as well as the gradient function, set `requires_grad` Boolean flag to `True`"
   ]
  },
  {
   "cell_type": "code",
   "execution_count": 40,
   "metadata": {},
   "outputs": [
    {
     "name": "stdout",
     "output_type": "stream",
     "text": [
      "True\n"
     ]
    }
   ],
   "source": [
    "import torch\n",
    "x = torch.FloatTensor([[1, 2, 3], [4, 5, 6]])\n",
    "x.requires_grad = True\n",
    "print(x.grad is None)"
   ]
  },
  {
   "cell_type": "code",
   "execution_count": 41,
   "metadata": {},
   "outputs": [
    {
     "name": "stdout",
     "output_type": "stream",
     "text": [
      "True\n"
     ]
    },
    {
     "name": "stderr",
     "output_type": "stream",
     "text": [
      "/Users/ivanchen/Desktop/pytorch_basics/venv/lib/python3.7/site-packages/torch/tensor.py:746: UserWarning: The .grad attribute of a Tensor that is not a leaf Tensor is being accessed. Its .grad attribute won't be populated during autograd.backward(). If you indeed want the gradient for a non-leaf Tensor, use .retain_grad() on the non-leaf Tensor. If you access the non-leaf Tensor by mistake, make sure you access the leaf Tensor instead. See github.com/pytorch/pytorch/pull/30531 for more informations.\n",
      "  warnings.warn(\"The .grad attribute of a Tensor that is not a leaf Tensor is being accessed. Its .grad \"\n"
     ]
    }
   ],
   "source": [
    "y = (x + 2) * (x + 5) + 3\n",
    "print(y.grad is None)"
   ]
  },
  {
   "cell_type": "code",
   "execution_count": 42,
   "metadata": {},
   "outputs": [
    {
     "name": "stdout",
     "output_type": "stream",
     "text": [
      "tensor([[1.5000, 1.8333, 2.1667],\n",
      "        [2.5000, 2.8333, 3.1667]])\n"
     ]
    }
   ],
   "source": [
    "z = y.mean()\n",
    "z.backward()\n",
    "print(x.grad)"
   ]
  },
  {
   "cell_type": "markdown",
   "metadata": {},
   "source": [
    "Create a 2D tensor and then add a dimension of size 1 inserted at dimension 0."
   ]
  },
  {
   "cell_type": "code",
   "execution_count": 48,
   "metadata": {},
   "outputs": [
    {
     "name": "stdout",
     "output_type": "stream",
     "text": [
      "type: torch.FloatTensor\n",
      "shape/size: torch.Size([1, 3, 3])\n",
      "values: \n",
      "tensor([[[0.3911, 0.1255, 0.4797],\n",
      "         [0.2515, 0.3408, 0.2092],\n",
      "         [0.7939, 0.0024, 0.1961]]])\n"
     ]
    }
   ],
   "source": [
    "a = torch.rand(3, 3)\n",
    "new_a = a.unsqueeze(0)\n",
    "describe(new_a)"
   ]
  },
  {
   "cell_type": "markdown",
   "metadata": {},
   "source": [
    "Remove the extra dimension you just added to the previous tensor."
   ]
  },
  {
   "cell_type": "code",
   "execution_count": 49,
   "metadata": {},
   "outputs": [
    {
     "name": "stdout",
     "output_type": "stream",
     "text": [
      "type: torch.FloatTensor\n",
      "shape/size: torch.Size([3, 3])\n",
      "values: \n",
      "tensor([[0.3911, 0.1255, 0.4797],\n",
      "        [0.2515, 0.3408, 0.2092],\n",
      "        [0.7939, 0.0024, 0.1961]])\n"
     ]
    }
   ],
   "source": [
    "new_a = a.squeeze(0)\n",
    "describe(new_a)"
   ]
  },
  {
   "cell_type": "markdown",
   "metadata": {},
   "source": [
    "Create a random tensor of shape 5x3 in the interval [3, 7)"
   ]
  },
  {
   "cell_type": "code",
   "execution_count": 52,
   "metadata": {},
   "outputs": [
    {
     "name": "stdout",
     "output_type": "stream",
     "text": [
      "type: torch.FloatTensor\n",
      "shape/size: torch.Size([5, 3])\n",
      "values: \n",
      "tensor([[4.4938, 5.1163, 6.0424],\n",
      "        [5.3575, 5.2689, 5.8089],\n",
      "        [4.0430, 4.0338, 6.2389],\n",
      "        [4.1750, 6.8753, 6.1547],\n",
      "        [3.0452, 3.9808, 6.3214]])\n"
     ]
    }
   ],
   "source": [
    "a = torch.rand(5, 3) * (7 - 3) + 3\n",
    "describe(a)"
   ]
  },
  {
   "cell_type": "markdown",
   "metadata": {},
   "source": [
    "Create a tensor with values from a normal distribution (mean=0, std=1)"
   ]
  },
  {
   "cell_type": "code",
   "execution_count": 53,
   "metadata": {},
   "outputs": [
    {
     "name": "stdout",
     "output_type": "stream",
     "text": [
      "type: torch.FloatTensor\n",
      "shape/size: torch.Size([3, 3])\n",
      "values: \n",
      "tensor([[-0.4377, -0.9724,  0.9319],\n",
      "        [ 0.6033, -0.7209, -0.9570],\n",
      "        [ 0.1374, -0.0873, -1.3255]])\n"
     ]
    }
   ],
   "source": [
    "a = torch.rand(3, 3)\n",
    "a.normal_()\n",
    "describe(a)"
   ]
  },
  {
   "cell_type": "markdown",
   "metadata": {},
   "source": [
    "Retrieve the indexes of all the nonzero elements in the tensor `torch.Tensor([1, 1, 1, 0, 1])`"
   ]
  },
  {
   "cell_type": "code",
   "execution_count": 55,
   "metadata": {},
   "outputs": [
    {
     "name": "stdout",
     "output_type": "stream",
     "text": [
      "tensor([[0],\n",
      "        [1],\n",
      "        [2],\n",
      "        [4]])\n"
     ]
    },
    {
     "name": "stderr",
     "output_type": "stream",
     "text": [
      "../torch/csrc/utils/python_arg_parser.cpp:756: UserWarning: This overload of nonzero is deprecated:\n",
      "\tnonzero(Tensor input, *, Tensor out)\n",
      "Consider using one of the following signatures instead:\n",
      "\tnonzero(Tensor input, *, bool as_tuple)\n"
     ]
    }
   ],
   "source": [
    "a = torch.Tensor([1, 1, 1, 0, 1])\n",
    "print(torch.nonzero(a))"
   ]
  },
  {
   "cell_type": "markdown",
   "metadata": {},
   "source": [
    "Create a random tensor of size (3,1) and then horizontally stack four copies together"
   ]
  },
  {
   "cell_type": "code",
   "execution_count": 56,
   "metadata": {},
   "outputs": [
    {
     "name": "stdout",
     "output_type": "stream",
     "text": [
      "type: torch.FloatTensor\n",
      "shape/size: torch.Size([3, 4])\n",
      "values: \n",
      "tensor([[0.1498, 0.1498, 0.1498, 0.1498],\n",
      "        [0.4282, 0.4282, 0.4282, 0.4282],\n",
      "        [0.4039, 0.4039, 0.4039, 0.4039]])\n"
     ]
    }
   ],
   "source": [
    "a = torch.rand(3, 1)\n",
    "new_a = torch.cat([a, a, a, a], dim=1)\n",
    "describe(new_a)"
   ]
  },
  {
   "cell_type": "code",
   "execution_count": 57,
   "metadata": {},
   "outputs": [
    {
     "name": "stdout",
     "output_type": "stream",
     "text": [
      "type: torch.FloatTensor\n",
      "shape/size: torch.Size([3, 4])\n",
      "values: \n",
      "tensor([[0.2361, 0.2361, 0.2361, 0.2361],\n",
      "        [0.8209, 0.8209, 0.8209, 0.8209],\n",
      "        [0.4990, 0.4990, 0.4990, 0.4990]])\n"
     ]
    }
   ],
   "source": [
    "a = torch.rand(3, 1)\n",
    "new_a = a.expand(3, 4)\n",
    "describe(new_a)"
   ]
  },
  {
   "cell_type": "markdown",
   "metadata": {},
   "source": [
    "Return the batch matrix­matrix product of two three­dimensional matrices"
   ]
  },
  {
   "cell_type": "code",
   "execution_count": 59,
   "metadata": {},
   "outputs": [
    {
     "name": "stdout",
     "output_type": "stream",
     "text": [
      "type: torch.FloatTensor\n",
      "shape/size: torch.Size([3, 4, 4])\n",
      "values: \n",
      "tensor([[[0.9971, 1.0341, 1.2981, 0.9452],\n",
      "         [1.1958, 1.4912, 1.3396, 1.3933],\n",
      "         [1.4195, 1.6713, 1.7064, 1.6990],\n",
      "         [0.6073, 1.1140, 1.2329, 1.0674]],\n",
      "\n",
      "        [[0.6885, 0.9850, 0.6519, 1.1256],\n",
      "         [1.1994, 1.4808, 1.4160, 2.0609],\n",
      "         [0.9277, 1.2166, 1.0350, 1.6507],\n",
      "         [0.6328, 0.5843, 0.8140, 1.1469]],\n",
      "\n",
      "        [[0.6521, 1.1723, 1.1073, 0.9042],\n",
      "         [1.0545, 1.7231, 1.9721, 1.5717],\n",
      "         [0.6584, 1.1213, 0.9755, 1.0692],\n",
      "         [0.4923, 0.8143, 0.8540, 0.7634]]])\n"
     ]
    }
   ],
   "source": [
    "a = torch.rand(3, 4, 5)\n",
    "b = torch.rand(3, 5, 4)\n",
    "mul_res = torch.bmm(a, b)\n",
    "describe(mul_res)"
   ]
  },
  {
   "cell_type": "markdown",
   "metadata": {},
   "source": [
    "Return the batch matrix­matrix product of a 3D matrix and a 2D matrix"
   ]
  },
  {
   "cell_type": "code",
   "execution_count": 65,
   "metadata": {},
   "outputs": [
    {
     "name": "stdout",
     "output_type": "stream",
     "text": [
      "type: torch.FloatTensor\n",
      "shape/size: torch.Size([3, 4, 4])\n",
      "values: \n",
      "tensor([[[0.6901, 1.1699, 1.0093, 1.3746],\n",
      "         [0.6617, 1.3787, 1.0042, 1.8279],\n",
      "         [0.9285, 1.7178, 1.7306, 2.3472],\n",
      "         [0.3412, 0.6219, 0.8230, 0.8462]],\n",
      "\n",
      "        [[0.4935, 0.9394, 0.8550, 1.3942],\n",
      "         [0.3636, 0.7419, 0.9118, 1.0552],\n",
      "         [1.0275, 1.2564, 1.4255, 1.8872],\n",
      "         [0.4990, 0.6942, 0.8994, 1.2455]],\n",
      "\n",
      "        [[0.9105, 1.5298, 0.9645, 2.0362],\n",
      "         [0.5278, 1.1272, 0.9263, 1.5801],\n",
      "         [0.7226, 1.4677, 1.3473, 2.0111],\n",
      "         [0.8603, 1.4163, 1.1667, 1.7265]]])\n"
     ]
    }
   ],
   "source": [
    "a = torch.rand(3,4,5)\n",
    "b = torch.rand(5,4)\n",
    "mul_res = torch.bmm(a, b.unsqueeze(0).expand(3, 5, 4))\n",
    "describe(mul_res)"
   ]
  },
  {
   "cell_type": "code",
   "execution_count": null,
   "metadata": {},
   "outputs": [],
   "source": []
  }
 ],
 "metadata": {
  "kernelspec": {
   "display_name": "Python 3",
   "language": "python",
   "name": "python3"
  },
  "language_info": {
   "codemirror_mode": {
    "name": "ipython",
    "version": 3
   },
   "file_extension": ".py",
   "mimetype": "text/x-python",
   "name": "python",
   "nbconvert_exporter": "python",
   "pygments_lexer": "ipython3",
   "version": "3.7.4"
  }
 },
 "nbformat": 4,
 "nbformat_minor": 4
}
